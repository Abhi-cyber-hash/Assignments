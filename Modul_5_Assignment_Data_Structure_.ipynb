{
  "nbformat": 4,
  "nbformat_minor": 0,
  "metadata": {
    "colab": {
      "provenance": []
    },
    "kernelspec": {
      "name": "python3",
      "display_name": "Python 3"
    },
    "language_info": {
      "name": "python"
    }
  },
  "cells": [
    {
      "cell_type": "markdown",
      "source": [
        "\n",
        "Q1. **Discuss string slicing and provide examples.**\n",
        "\n",
        "Ans.String slicing is a technique in Python that allows you to extract a portion of a string using a specific syntax. The general format for slicing is:"
      ],
      "metadata": {
        "id": "SmIiWYBcHm2X"
      }
    },
    {
      "cell_type": "code",
      "source": [
        "string[start:end:step]\n"
      ],
      "metadata": {
        "id": "TsSaDYvgIcss"
      },
      "execution_count": null,
      "outputs": []
    },
    {
      "cell_type": "markdown",
      "source": [
        "**start**: The index where the slice begins (inclusive).\n",
        "\n",
        "**end**: The index where the slice ends (exclusive).\n",
        "\n",
        "**step**: The interval between each index in the slice (optional)."
      ],
      "metadata": {
        "id": "jWcg76BNIj_Q"
      }
    },
    {
      "cell_type": "code",
      "source": [
        "#Basic Slicing\n",
        "text = \"Hello, World!\"\n",
        "slice1 = text[0:5]  # Output: 'Hello'\n",
        "slice2 = text[7:12]  # Output: 'World'\n"
      ],
      "metadata": {
        "id": "vIl8j9bFJDHH"
      },
      "execution_count": 1,
      "outputs": []
    },
    {
      "cell_type": "code",
      "source": [
        "#Omitting Start and End\n",
        "slice3 = text[:5]    # Output: 'Hello' (from the start to index 4)\n",
        "slice4 = text[7:]    # Output: 'World!' (from index 7 to the end)\n"
      ],
      "metadata": {
        "id": "_S9fXqHOJEAG"
      },
      "execution_count": null,
      "outputs": []
    },
    {
      "cell_type": "code",
      "source": [
        "#Using Negative Indices\n",
        "\n",
        "pythonslice7 = text[::2]    # Output: 'Hlo ol!' (every second character)\n",
        "slice8 = text[::-1]   # Output: '!dlroW ,olleH' (reversed string)\n"
      ],
      "metadata": {
        "id": "ap_EkBF2JoId"
      },
      "execution_count": null,
      "outputs": []
    },
    {
      "cell_type": "markdown",
      "source": [
        "Q2. **Explain the key features of lists in Python.**\n",
        "\n",
        "Ans.Lists in Python are versatile data structures that hold an ordered collection of items. Here are the key features of lists:\n",
        "\n",
        "### 1. **Ordered**\n",
        "Lists maintain the order of elements as they were added. You can access elements by their index, starting from 0.\n",
        "\n",
        "```python\n",
        "my_list = [10, 20, 30]\n",
        "print(my_list[1])  # Output: 20\n",
        "```\n",
        "\n",
        "### 2. **Mutable**\n",
        "Lists are mutable, meaning you can modify them after creation. You can add, remove, or change elements.\n",
        "\n",
        "```python\n",
        "my_list[1] = 25  # Update an element\n",
        "my_list.append(40)  # Add an element\n",
        "print(my_list)  # Output: [10, 25, 30, 40]\n",
        "```\n",
        "\n",
        "### 3. **Dynamic Size**\n",
        "Lists can grow or shrink in size as elements are added or removed.\n",
        "\n",
        "```python\n",
        "my_list.pop()  # Remove the last element\n",
        "print(my_list)  # Output: [10, 25, 30]\n",
        "```\n",
        "\n",
        "### 4. **Heterogeneous Elements**\n",
        "Lists can store elements of different data types, including integers, strings, and other lists.\n",
        "\n",
        "```python\n",
        "mixed_list = [1, \"Hello\", 3.14, [2, 3]]\n",
        "```\n",
        "\n",
        "### 5. **Support for Nested Lists**\n",
        "Lists can contain other lists, allowing for the creation of multi-dimensional data structures.\n",
        "\n",
        "```python\n",
        "nested_list = [[1, 2, 3], [4, 5, 6]]\n",
        "print(nested_list[0])  # Output: [1, 2, 3]\n",
        "```\n",
        "\n",
        "### 6. **Built-in Methods**\n",
        "Python provides a variety of built-in methods to manipulate lists, such as:\n",
        "\n",
        "- `append()`: Adds an element to the end of the list.\n",
        "- `extend()`: Adds elements from another iterable.\n",
        "- `insert()`: Inserts an element at a specified index.\n",
        "- `remove()`: Removes the first occurrence of a value.\n",
        "- `pop()`: Removes and returns an element at a specified index (or the last one if no index is provided).\n",
        "- `sort()`: Sorts the list in ascending order.\n",
        "- `reverse()`: Reverses the elements of the list.\n",
        "\n",
        "```python\n",
        "my_list = [3, 1, 4]\n",
        "my_list.sort()  # Output: [1, 3, 4]\n",
        "```\n",
        "\n",
        "### 7. **List Comprehensions**\n",
        "Python supports list comprehensions, which provide a concise way to create lists based on existing iterables.\n",
        "\n",
        "```python\n",
        "squared = [x**2 for x in range(5)]  # Output: [0, 1, 4, 9, 16]\n",
        "```\n",
        "\n",
        "### 8. **Slicing and Indexing**\n",
        "You can slice lists to create sublists and use negative indexing to access elements from the end.\n",
        "\n",
        "```python\n",
        "sub_list = my_list[1:3]  # Output: [3, 4]\n",
        "```\n"
      ],
      "metadata": {
        "id": "yvA5bX-sKelz"
      }
    },
    {
      "cell_type": "markdown",
      "source": [
        "Q3. **Describe how to access, modify, and delete elements in a list with examples.**\n",
        "\n",
        "Ans.Accessing, modifying, and deleting elements in a list in Python is straightforward. Here’s how to do each, along with examples.\n",
        "\n",
        "**Accessing Elements**\n",
        "\n",
        "You can access elements in a list using indexing. Python uses zero-based indexing, so the first element is at index 0."
      ],
      "metadata": {
        "id": "h5Fgj63oNN7_"
      }
    },
    {
      "cell_type": "code",
      "source": [
        "my_list = [10, 20, 30, 40, 50]\n",
        "\n",
        "# Accessing the first element\n",
        "first_element = my_list[0]  # Output: 10\n",
        "\n",
        "# Accessing the last element using negative indexing\n",
        "last_element = my_list[-1]  # Output: 50\n"
      ],
      "metadata": {
        "id": "pXjK0LkTN3V4"
      },
      "execution_count": 2,
      "outputs": []
    },
    {
      "cell_type": "markdown",
      "source": [
        "**Modifying Elements**\n",
        "\n",
        "Lists are mutable, meaning you can change their contents by assigning a new value to an index."
      ],
      "metadata": {
        "id": "1QLzZLC5OCl1"
      }
    },
    {
      "cell_type": "code",
      "source": [
        "# Modifying the second element\n",
        "my_list[1] = 25  # Now my_list is [10, 25, 30, 40, 50]\n",
        "\n",
        "# Modifying multiple elements using slicing\n",
        "my_list[2:4] = [35, 45]  # Now my_list is [10, 25, 35, 45, 50]\n"
      ],
      "metadata": {
        "id": "sAXi6E0pN6ue"
      },
      "execution_count": 3,
      "outputs": []
    },
    {
      "cell_type": "code",
      "source": [
        "#Using del Statement This removes an element at a specified index.\n",
        "del my_list[1]  # Removes the element at index 1\n",
        "print(my_list)  # Output: [10, 35, 45, 50]\n"
      ],
      "metadata": {
        "colab": {
          "base_uri": "https://localhost:8080/"
        },
        "id": "gSgaWZx4OCM2",
        "outputId": "67919193-3587-4aaa-c927-cbfb3dd14584"
      },
      "execution_count": 4,
      "outputs": [
        {
          "output_type": "stream",
          "name": "stdout",
          "text": [
            "[10, 35, 45, 50]\n"
          ]
        }
      ]
    },
    {
      "cell_type": "code",
      "source": [
        "#Using remove() Method This removes the first occurrence of a specified value.\n",
        "my_list.remove(35)  # Removes the value 35\n",
        "print(my_list)  # Output: [10]\n"
      ],
      "metadata": {
        "colab": {
          "base_uri": "https://localhost:8080/"
        },
        "id": "aahMV2PtOm9Q",
        "outputId": "ad5536c1-d4a3-486f-b55c-105e471932d4"
      },
      "execution_count": 5,
      "outputs": [
        {
          "output_type": "stream",
          "name": "stdout",
          "text": [
            "[10, 45, 50]\n"
          ]
        }
      ]
    },
    {
      "cell_type": "markdown",
      "source": [
        "Q4. **Compare and contrast tuples and lists with examples.**\n",
        "\n",
        "Ans.Tuples and lists are both used to store collections of items in Python, but they have key differences in terms of mutability, syntax, performance, and use cases.\n",
        "\n",
        "Lists: Generally have a larger memory overhead due to their mutable nature and the additional features they offer. They may be slower for certain operations compared to tuples.\n",
        "\n",
        "Tuples: Typically have a smaller memory footprint and can be faster for iteration and access because of their immutability.Here’s a comparison:\n",
        "\n",
        "1. **Mutability**\n",
        "\n",
        "**Lists** : Mutable, meaning you can change their contents (add, remove, or modify elements).\n"
      ],
      "metadata": {
        "id": "nd_62disP6mI"
      }
    },
    {
      "cell_type": "code",
      "source": [
        "my_list = [1, 2, 3]\n",
        "my_list[0] = 10  # Modifying an element\n",
        "my_list.append(4)  # Adding an element\n",
        "print(my_list)  # Output: [10, 2, 3, 4]\n"
      ],
      "metadata": {
        "colab": {
          "base_uri": "https://localhost:8080/"
        },
        "id": "M-eAZUXHSMEo",
        "outputId": "5d52227f-3c5a-4183-ecc0-e5a2f224905f"
      },
      "execution_count": 6,
      "outputs": [
        {
          "output_type": "stream",
          "name": "stdout",
          "text": [
            "[10, 2, 3, 4]\n"
          ]
        }
      ]
    },
    {
      "cell_type": "markdown",
      "source": [
        "**Tuples**: Immutable, meaning once created, their contents cannot be changed."
      ],
      "metadata": {
        "id": "uQ_ULOFRSdtM"
      }
    },
    {
      "cell_type": "code",
      "source": [
        "my_tuple = (1, 2, 3)\n",
        "# my_tuple[0] = 10  # This will raise a TypeError\n"
      ],
      "metadata": {
        "id": "Ge-eIVJsSPvt"
      },
      "execution_count": 8,
      "outputs": []
    },
    {
      "cell_type": "markdown",
      "source": [
        "2. **Syntax**\n",
        "\n",
        "**Lists**: Defined using square brackets []."
      ],
      "metadata": {
        "id": "r0AwlU35S-di"
      }
    },
    {
      "cell_type": "code",
      "source": [
        "my_list = [1, 2, 3]\n"
      ],
      "metadata": {
        "id": "Bfa6OJyoSqrx"
      },
      "execution_count": null,
      "outputs": []
    },
    {
      "cell_type": "markdown",
      "source": [
        "**Tuples**: Defined using parentheses ()."
      ],
      "metadata": {
        "id": "Gv38M303TNhM"
      }
    },
    {
      "cell_type": "code",
      "source": [
        "my_tuple = (1, 2, 3)\n"
      ],
      "metadata": {
        "id": "Ied46mBUS9vo"
      },
      "execution_count": null,
      "outputs": []
    },
    {
      "cell_type": "markdown",
      "source": [
        "Q5 **Describe the key features of sets and provide examples of their use.**\n",
        "\n",
        "Ans.Sets in Python are a built-in data type that represents an unordered collection of unique elements. Here are the key features of sets, along with examples of their use:\n",
        "\n",
        "Key Features of Sets\n",
        "\n",
        "1.**Unordered**\n",
        "\n",
        "Sets do not maintain any order. The elements are stored in a way that does not guarantee their arrangement.\n"
      ],
      "metadata": {
        "id": "3CW_YsvJT0PC"
      }
    },
    {
      "cell_type": "code",
      "source": [
        "my_set = {3, 1, 2}\n",
        "print(my_set)  # Output might be {1, 2, 3} or {3, 1, 2} - order is not guaranteed\n"
      ],
      "metadata": {
        "colab": {
          "base_uri": "https://localhost:8080/"
        },
        "id": "p21py0OaVjaC",
        "outputId": "5d2d096a-ecfa-4b0b-b5fa-b375ed725a8b"
      },
      "execution_count": 9,
      "outputs": [
        {
          "output_type": "stream",
          "name": "stdout",
          "text": [
            "{1, 2, 3}\n"
          ]
        }
      ]
    },
    {
      "cell_type": "markdown",
      "source": [
        "2.**Unique Elements**\n",
        "\n",
        "Sets automatically eliminate duplicate elements. If you try to add a duplicate, it will not be included in the set."
      ],
      "metadata": {
        "id": "4V32LwbrViI8"
      }
    },
    {
      "cell_type": "code",
      "source": [
        "my_set = {1, 2, 2, 3}\n",
        "print(my_set)  # Output: {1, 2, 3}\n"
      ],
      "metadata": {
        "colab": {
          "base_uri": "https://localhost:8080/"
        },
        "id": "jVnGUIyqV0tY",
        "outputId": "33dc8dc0-8e36-4f23-98f2-027cdded78fd"
      },
      "execution_count": 10,
      "outputs": [
        {
          "output_type": "stream",
          "name": "stdout",
          "text": [
            "{1, 2, 3}\n"
          ]
        }
      ]
    },
    {
      "cell_type": "markdown",
      "source": [
        "3.**Mutable**\n",
        "\n",
        "Sets are mutable, meaning you can add or remove elements after the set has been created."
      ],
      "metadata": {
        "id": "iyAac4gLWAdD"
      }
    },
    {
      "cell_type": "code",
      "source": [
        "my_set.add(4)  # Adding an element\n",
        "print(my_set)  # Output: {1, 2, 3, 4}\n",
        "my_set.remove(2)  # Removing an element\n",
        "print(my_set)  # Output: {1, 3, 4}\n"
      ],
      "metadata": {
        "colab": {
          "base_uri": "https://localhost:8080/"
        },
        "id": "YqDank7cV2i8",
        "outputId": "c2675f8d-50ce-4b99-a833-3feb98761410"
      },
      "execution_count": 11,
      "outputs": [
        {
          "output_type": "stream",
          "name": "stdout",
          "text": [
            "{1, 2, 3, 4}\n",
            "{1, 3, 4}\n"
          ]
        }
      ]
    },
    {
      "cell_type": "markdown",
      "source": [
        "4.**Set Operations**\n",
        "\n",
        "Sets support mathematical operations like union, intersection, difference, and symmetric difference."
      ],
      "metadata": {
        "id": "REzLcPJzXOKZ"
      }
    },
    {
      "cell_type": "code",
      "source": [
        "set_a = {1, 2, 3}\n",
        "set_b = {3, 4, 5}\n",
        "\n",
        "union = set_a | set_b  # Union\n",
        "intersection = set_a & set_b  # Intersection\n",
        "difference = set_a - set_b  # Difference\n",
        "symmetric_difference = set_a ^ set_b  # Symmetric difference\n",
        "\n",
        "print(union)  # Output: {1, 2, 3, 4, 5}\n",
        "print(intersection)  # Output: {3}\n",
        "print(difference)  # Output: {1, 2}\n",
        "print(symmetric_difference)  # Output: {1, 2, 4, 5}\n"
      ],
      "metadata": {
        "colab": {
          "base_uri": "https://localhost:8080/"
        },
        "id": "WktL7MiXXR6x",
        "outputId": "c77b6496-7e6b-430a-9e2a-1e844a8c80a3"
      },
      "execution_count": 12,
      "outputs": [
        {
          "output_type": "stream",
          "name": "stdout",
          "text": [
            "{1, 2, 3, 4, 5}\n",
            "{3}\n",
            "{1, 2}\n",
            "{1, 2, 4, 5}\n"
          ]
        }
      ]
    },
    {
      "cell_type": "markdown",
      "source": [
        "5.**Comprehensions**\n",
        "\n",
        "You can create sets using set comprehensions, similar to list comprehensions."
      ],
      "metadata": {
        "id": "HPnuw3LIXm-y"
      }
    },
    {
      "cell_type": "code",
      "source": [
        "squares = {x**2 for x in range(5)}  # Creates a set of squares\n",
        "print(squares)  # Output: {0, 1, 4, 9, 16}\n"
      ],
      "metadata": {
        "colab": {
          "base_uri": "https://localhost:8080/"
        },
        "id": "jf14_kq8XXWm",
        "outputId": "6c434755-8ec9-4078-b447-633b0ecabcd9"
      },
      "execution_count": 13,
      "outputs": [
        {
          "output_type": "stream",
          "name": "stdout",
          "text": [
            "{0, 1, 4, 9, 16}\n"
          ]
        }
      ]
    },
    {
      "cell_type": "markdown",
      "source": [
        "Q6 **Discuss the use cases of tuples and sets and Python programming.**\n",
        "\n",
        "Ans.Tuples and sets in Python are both useful data structures, each with distinct characteristics that make them suitable for different use cases. Here’s a discussion of their use cases:\n",
        "\n",
        "### Use Cases of Tuples\n",
        "\n",
        "1. **Immutable Data Storage**\n",
        "   - **Use Case**: When you want to store a collection of items that should not change throughout the program, tuples are ideal. This is particularly useful for fixed collections of data.\n",
        "   - **Example**: Storing coordinates, RGB color values, or configuration settings.\n",
        "     ```python\n",
        "     coordinates = (10.0, 20.0)\n",
        "     rgb_color = (255, 0, 0)  # Red\n",
        "     ```\n",
        "\n",
        "2. **Return Multiple Values from Functions**\n",
        "   - **Use Case**: Functions can return multiple values packed into a tuple, which makes it easier to return structured data.\n",
        "   - **Example**: Returning both the result and status of a calculation.\n",
        "     ```python\n",
        "     def calculate(a, b):\n",
        "         return a + b, \"Success\"\n",
        "     \n",
        "     result, status = calculate(5, 3)\n",
        "     print(result, status)  # Output: 8 Success\n",
        "     ```\n",
        "\n",
        "3. **Data Integrity**\n",
        "   - **Use Case**: Since tuples are immutable, they can be used as keys in dictionaries, which require immutable types.\n",
        "   - **Example**: Storing a mapping of coordinates to a specific value.\n",
        "     ```python\n",
        "     location_values = {(0, 0): \"Origin\", (1, 1): \"Point A\"}\n",
        "     ```\n",
        "\n",
        "4. **Heterogeneous Data Collections**\n",
        "   - **Use Case**: Tuples can store collections of different data types, making them suitable for grouped data.\n",
        "   - **Example**: Representing a database record.\n",
        "     ```python\n",
        "     record = (\"Alice\", 30, \"Engineer\")\n",
        "     ```\n",
        "\n",
        "### Use Cases of Sets\n",
        "\n",
        "1. **Removing Duplicates**\n",
        "   - **Use Case**: Sets automatically ensure that all elements are unique, making them perfect for filtering duplicates from a list or other iterable.\n",
        "   - **Example**: Extracting unique user IDs from a list.\n",
        "     ```python\n",
        "     user_ids = [1, 2, 2, 3, 4, 4]\n",
        "     unique_ids = set(user_ids)\n",
        "     print(unique_ids)  # Output: {1, 2, 3, 4}\n",
        "     ```\n",
        "\n",
        "2. **Membership Testing**\n",
        "   - **Use Case**: Sets provide fast membership tests, which are useful for checking whether an item exists in a collection.\n",
        "   - **Example**: Checking for banned users in a system.\n",
        "     ```python\n",
        "     banned_users = {\"user1\", \"user2\", \"user3\"}\n",
        "     if \"user4\" not in banned_users:\n",
        "         print(\"User is allowed\")  # Output: User is allowed\n",
        "     ```\n",
        "\n",
        "3. **Mathematical Set Operations**\n",
        "   - **Use Case**: Sets are ideal for performing operations like union, intersection, difference, and symmetric difference, which are useful in various analytical contexts.\n",
        "   - **Example**: Finding common friends in social networks.\n",
        "     ```python\n",
        "     friends_a = {\"Alice\", \"Bob\", \"Charlie\"}\n",
        "     friends_b = {\"Bob\", \"Diana\"}\n",
        "     common_friends = friends_a & friends_b\n",
        "     print(common_friends)  # Output: {'Bob'}\n",
        "     ```\n",
        "\n",
        "4. **Data Analysis**\n",
        "   - **Use Case**: Sets are useful in data analysis tasks where you need to quickly identify unique items or perform comparisons.\n",
        "   - **Example**: Finding unique survey responses.\n",
        "     ```python\n",
        "     responses = [\"yes\", \"no\", \"maybe\", \"yes\"]\n",
        "     unique_responses = set(responses)\n",
        "     print(unique_responses)  # Output: {'yes', 'no', 'maybe'}\n",
        "     ```\n",
        "\n"
      ],
      "metadata": {
        "id": "WU3c61OgYWJj"
      }
    },
    {
      "cell_type": "markdown",
      "source": [
        "Q7 **Describe how to add,modify,and delete items in a dictonary with examples.**\n",
        "\n",
        "Ans. Dictionaries in Python are mutable data structures that store key-value pairs. Here’s how to add, modify, and delete items in a dictionary, along with examples for each operation.\n",
        "\n",
        "1. **Adding Items**\n",
        "You can add new key-value pairs to a dictionary by assigning a value to a new key."
      ],
      "metadata": {
        "id": "KsBsL-kkajm6"
      }
    },
    {
      "cell_type": "code",
      "source": [
        "# Creating a dictionary\n",
        "my_dict = {'name': 'Alice', 'age': 30}\n",
        "\n",
        "# Adding a new item\n",
        "my_dict['city'] = 'New York'\n",
        "print(my_dict)  # Output: {'name': 'Alice', 'age': 30, 'city': 'New York'}\n"
      ],
      "metadata": {
        "colab": {
          "base_uri": "https://localhost:8080/"
        },
        "id": "VfK5pYBvcN6E",
        "outputId": "6d023879-a108-4025-fc15-2272aca3b5e2"
      },
      "execution_count": 14,
      "outputs": [
        {
          "output_type": "stream",
          "name": "stdout",
          "text": [
            "{'name': 'Alice', 'age': 30, 'city': 'New York'}\n"
          ]
        }
      ]
    },
    {
      "cell_type": "markdown",
      "source": [
        "2. **Modifying Items**\n",
        "To modify an existing value, simply assign a new value to the existing key."
      ],
      "metadata": {
        "id": "pjg1e8E3clK1"
      }
    },
    {
      "cell_type": "code",
      "source": [
        "# Modifying an existing item\n",
        "my_dict['age'] = 31\n",
        "print(my_dict)  # Output: {'name': 'Alice', 'age': 31, 'city': 'New York', 'job': 'Engineer', 'hobby': 'Painting'}\n"
      ],
      "metadata": {
        "colab": {
          "base_uri": "https://localhost:8080/"
        },
        "id": "FDoHhiWDcU9t",
        "outputId": "5e68443d-4049-4617-acb7-dc3c36455840"
      },
      "execution_count": 15,
      "outputs": [
        {
          "output_type": "stream",
          "name": "stdout",
          "text": [
            "{'name': 'Alice', 'age': 31, 'city': 'New York'}\n"
          ]
        }
      ]
    },
    {
      "cell_type": "markdown",
      "source": [
        "3.**Deleting Items**\n",
        "\n",
        "You can delete items from a dictionary using several methods:\n",
        "\n",
        "Using the **del** statement This removes a key-value pair by specifying the key.\n"
      ],
      "metadata": {
        "id": "siZmGToPdQRK"
      }
    },
    {
      "cell_type": "code",
      "source": [
        "del my_dict['hobby']\n",
        "print(my_dict)  # Output: {'name': 'Alice', 'age': 31, 'city': 'New York', 'job': 'Engineer'}\n"
      ],
      "metadata": {
        "id": "WKzv3IdIduJ0"
      },
      "execution_count": null,
      "outputs": []
    },
    {
      "cell_type": "markdown",
      "source": [
        "Using the clear() method This removes all items from the dictionary, leaving it empty."
      ],
      "metadata": {
        "id": "9-ErQXLgeAFP"
      }
    },
    {
      "cell_type": "code",
      "source": [
        "my_dict.clear()\n",
        "print(my_dict)  # Output: {}\n"
      ],
      "metadata": {
        "colab": {
          "base_uri": "https://localhost:8080/"
        },
        "id": "mYE7vjNBeHKS",
        "outputId": "6a219acb-781e-4521-8915-002425503a3c"
      },
      "execution_count": 18,
      "outputs": [
        {
          "output_type": "stream",
          "name": "stdout",
          "text": [
            "{}\n"
          ]
        }
      ]
    },
    {
      "cell_type": "markdown",
      "source": [
        "Q8. **Discuss the importance of dictonary keys being immutable and provide examples.**\n",
        "\n",
        "Ans.The immutability of dictionary keys in Python is crucial for several reasons, primarily related to how dictionaries function and maintain data integrity. Here’s a detailed discussion on the importance of this property, along with examples.\n",
        "\n",
        "Importance of Immutable Keys\n",
        "Ensures Data Integrity\n",
        "\n",
        "If dictionary keys were mutable, changing a key after it has been added to the dictionary could lead to inconsistencies and make it impossible to retrieve the value associated with that key.\n",
        "\n",
        "Example: If lists (which are mutable) were allowed as keys, modifying a list used as a key would disrupt the mapping."
      ],
      "metadata": {
        "id": "707d_nuWeXlD"
      }
    },
    {
      "cell_type": "code",
      "source": [
        "# This code won't work because lists are mutable\n",
        "my_dict = {[1, 2]: \"A\"}  # Raises TypeError\n"
      ],
      "metadata": {
        "colab": {
          "base_uri": "https://localhost:8080/",
          "height": 166
        },
        "id": "UTjZFJY4eJtp",
        "outputId": "7f11bfc1-7877-42e8-e0a7-89ef07c3869f"
      },
      "execution_count": 19,
      "outputs": [
        {
          "output_type": "error",
          "ename": "TypeError",
          "evalue": "unhashable type: 'list'",
          "traceback": [
            "\u001b[0;31m---------------------------------------------------------------------------\u001b[0m",
            "\u001b[0;31mTypeError\u001b[0m                                 Traceback (most recent call last)",
            "\u001b[0;32m<ipython-input-19-c61e85798a57>\u001b[0m in \u001b[0;36m<cell line: 2>\u001b[0;34m()\u001b[0m\n\u001b[1;32m      1\u001b[0m \u001b[0;31m# This code won't work because lists are mutable\u001b[0m\u001b[0;34m\u001b[0m\u001b[0;34m\u001b[0m\u001b[0m\n\u001b[0;32m----> 2\u001b[0;31m \u001b[0mmy_dict\u001b[0m \u001b[0;34m=\u001b[0m \u001b[0;34m{\u001b[0m\u001b[0;34m[\u001b[0m\u001b[0;36m1\u001b[0m\u001b[0;34m,\u001b[0m \u001b[0;36m2\u001b[0m\u001b[0;34m]\u001b[0m\u001b[0;34m:\u001b[0m \u001b[0;34m\"A\"\u001b[0m\u001b[0;34m}\u001b[0m  \u001b[0;31m# Raises TypeError\u001b[0m\u001b[0;34m\u001b[0m\u001b[0;34m\u001b[0m\u001b[0m\n\u001b[0m",
            "\u001b[0;31mTypeError\u001b[0m: unhashable type: 'list'"
          ]
        }
      ]
    },
    {
      "cell_type": "markdown",
      "source": [
        "**Hashing Requirement**\n",
        "\n",
        "Dictionary keys must be hashable, meaning they need to be of a type that produces a consistent hash value. This allows for fast access to values based on keys. Immutable types (like strings, tuples, and integers) have a stable hash value.\n",
        "Example: Using strings and tuples as keys works because they are immutable."
      ],
      "metadata": {
        "id": "gYWcPv6SfS1r"
      }
    },
    {
      "cell_type": "code",
      "source": [
        "my_dict = {\n",
        "    \"name\": \"Alice\",\n",
        "    (1, 2): \"Coordinates\"\n",
        "}\n",
        "print(my_dict[\"name\"])  # Output: Alice\n",
        "print(my_dict[(1, 2)])  # Output: Coordinates\n"
      ],
      "metadata": {
        "colab": {
          "base_uri": "https://localhost:8080/"
        },
        "id": "BSAGR4CqfSHC",
        "outputId": "96617fe2-06cc-4000-c3b9-29790e307c99"
      },
      "execution_count": 20,
      "outputs": [
        {
          "output_type": "stream",
          "name": "stdout",
          "text": [
            "Alice\n",
            "Coordinates\n"
          ]
        }
      ]
    },
    {
      "cell_type": "markdown",
      "source": [
        "Performance\n",
        "\n",
        "The requirement for immutable keys allows for efficient lookups in dictionaries. Python can quickly compute the location of a value based on its key’s hash without worrying about the key changing.\n",
        "\n",
        "Examples of Valid and Invalid Keys\n",
        "\n",
        "Valid Keys: Strings, integers, floats, and tuples (if the tuple contains only immutable elements)."
      ],
      "metadata": {
        "id": "L4dZxmOrfm3I"
      }
    },
    {
      "cell_type": "code",
      "source": [
        "my_dict = {\n",
        "    \"key1\": \"value1\",\n",
        "    42: \"value2\",\n",
        "    (1, 2): \"value3\"\n",
        "}\n",
        "print(my_dict)  # Output: {'key1': 'value1', 42: 'value2', (1, 2): 'value3'}\n"
      ],
      "metadata": {
        "colab": {
          "base_uri": "https://localhost:8080/"
        },
        "id": "VXDQyHJvfriM",
        "outputId": "b6e619a2-f251-45f4-d31d-2bd18a82e721"
      },
      "execution_count": 23,
      "outputs": [
        {
          "output_type": "stream",
          "name": "stdout",
          "text": [
            "{'key1': 'value1', 42: 'value2', (1, 2): 'value3'}\n"
          ]
        }
      ]
    },
    {
      "cell_type": "markdown",
      "source": [
        "Invalid Keys: Lists and dictionaries (which are mutable) cannot be used as keys."
      ],
      "metadata": {
        "id": "x76vP7_5fwxH"
      }
    },
    {
      "cell_type": "code",
      "source": [
        "# This will raise a TypeError\n",
        "invalid_dict = {\n",
        "    [1, 2, 3]: \"value\"  # Raises TypeError: unhashable type: 'list'\n",
        "}\n"
      ],
      "metadata": {
        "colab": {
          "base_uri": "https://localhost:8080/",
          "height": 202
        },
        "id": "z4hxWiKsfEma",
        "outputId": "1a20e7fd-dcd0-4eda-9c44-c4ccd1f67a8f"
      },
      "execution_count": 22,
      "outputs": [
        {
          "output_type": "error",
          "ename": "TypeError",
          "evalue": "unhashable type: 'list'",
          "traceback": [
            "\u001b[0;31m---------------------------------------------------------------------------\u001b[0m",
            "\u001b[0;31mTypeError\u001b[0m                                 Traceback (most recent call last)",
            "\u001b[0;32m<ipython-input-22-4c248f1bb4a0>\u001b[0m in \u001b[0;36m<cell line: 3>\u001b[0;34m()\u001b[0m\n\u001b[1;32m      1\u001b[0m \u001b[0;31m# This will raise a TypeError\u001b[0m\u001b[0;34m\u001b[0m\u001b[0;34m\u001b[0m\u001b[0m\n\u001b[0;32m----> 2\u001b[0;31m invalid_dict = {\n\u001b[0m\u001b[1;32m      3\u001b[0m     \u001b[0;34m[\u001b[0m\u001b[0;36m1\u001b[0m\u001b[0;34m,\u001b[0m \u001b[0;36m2\u001b[0m\u001b[0;34m,\u001b[0m \u001b[0;36m3\u001b[0m\u001b[0;34m]\u001b[0m\u001b[0;34m:\u001b[0m \u001b[0;34m\"value\"\u001b[0m  \u001b[0;31m# Raises TypeError: unhashable type: 'list'\u001b[0m\u001b[0;34m\u001b[0m\u001b[0;34m\u001b[0m\u001b[0m\n\u001b[1;32m      4\u001b[0m }\n",
            "\u001b[0;31mTypeError\u001b[0m: unhashable type: 'list'"
          ]
        }
      ]
    },
    {
      "cell_type": "code",
      "source": [],
      "metadata": {
        "id": "obOedQbgf0AZ"
      },
      "execution_count": null,
      "outputs": []
    }
  ]
}