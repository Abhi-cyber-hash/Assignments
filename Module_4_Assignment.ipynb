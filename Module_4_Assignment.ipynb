{
  "nbformat": 4,
  "nbformat_minor": 0,
  "metadata": {
    "colab": {
      "provenance": []
    },
    "kernelspec": {
      "name": "python3",
      "display_name": "Python 3"
    },
    "language_info": {
      "name": "python"
    }
  },
  "cells": [
    {
      "cell_type": "markdown",
      "source": [
        "Q1.**Explain the key features of Python that make it a popular choice for programming**.\n",
        "\n",
        "Ans.Python is a popular programming language for several key reasons:\n",
        "\n",
        "1. **Readability and Simplicity**: Python has a clear and straightforward syntax, making it easy to read and write. This simplicity allows beginners to learn quickly and helps experienced developers maintain code more effectively.\n",
        "\n",
        "2. **Versatility**: Python is a multi-paradigm language, supporting procedural, object-oriented, and functional programming styles. This flexibility allows developers to choose the best approach for their projects.\n",
        "\n",
        "3. **Rich Ecosystem and Libraries**: Python boasts a vast collection of libraries and frameworks (like NumPy, pandas, Django, and Flask) that simplify complex tasks, from data analysis to web development.\n",
        "\n",
        "4. **Community Support**: Python has a large and active community, providing a wealth of resources, tutorials, and forums for support. This makes it easier for developers to find help and share knowledge.\n",
        "\n",
        "5. **Cross-Platform Compatibility**: Python runs on various operating systems, including Windows, macOS, and Linux. This makes it a great choice for developers working in different environments.\n",
        "\n",
        "6. **Strong Support for Data Science and Machine Learning**: With libraries like TensorFlow, scikit-learn, and Matplotlib, Python is a leading language for data analysis, machine learning, and artificial intelligence.\n",
        "\n",
        "7. **Integration Capabilities**: Python easily integrates with other languages and technologies, making it a good choice for projects that require interoperability.\n",
        "\n",
        "8. **Extensive Documentation**: Python has comprehensive documentation that covers its features, libraries, and best practices, aiding both new and experienced programmers.\n",
        "\n",
        "These features contribute to Python's popularity across various fields, including web development, data science, automation, and more.\n"
      ],
      "metadata": {
        "id": "DczMWOW09Ed3"
      }
    },
    {
      "cell_type": "markdown",
      "source": [
        "Q2. **Describe the role of predefined keywords in Python and provide examples of how they are used in a program.**\n",
        "\n",
        "Ans.In Python, predefined keywords are reserved words that have special meanings and cannot be used as identifiers (names for variables, functions, classes, etc.). These keywords define the syntax and structure of the Python language.\n",
        "\n",
        "Here’s a list of some commonly used Python keywords:\n",
        "\n",
        "False\n",
        "None\n",
        "True\n",
        "and\n",
        "as\n",
        "assert\n",
        "async\n",
        "await\n",
        "break\n",
        "class\n",
        "continue\n",
        "def\n",
        "del\n",
        "elif\n",
        "else\n",
        "except\n",
        "finally\n",
        "for\n",
        "from\n",
        "global\n",
        "if\n",
        "import\n",
        "in\n",
        "is\n",
        "lambda\n",
        "nonlocal\n",
        "not\n",
        "or\n",
        "pass\n",
        "raise\n",
        "return\n",
        "try\n",
        "while\n",
        "with\n",
        "yield\n",
        "\n",
        "Role of Predefined Keywords:\n",
        "\n",
        "1.**Control Flow**: Keywords like if, else, elif, for, and while are used to control the flow of the program.\n",
        "\n",
        "2.**Data Definition**: Keywords such as def, class, and import help in defining functions, classes, and modules.\n",
        "\n",
        "3.**Boolean Values**: Keywords True, False, and None represent fundamental data values.\n",
        "\n",
        "4.**Exception Handling**: Keywords like try, except, finally, and raise are used to manage exceptions.\n"
      ],
      "metadata": {
        "id": "R20vbZBmA50V"
      }
    },
    {
      "cell_type": "code",
      "source": [
        "#control flow\n",
        "x = 10\n",
        "if x > 5:\n",
        "    print(\"x is greater than 5\")\n",
        "else:\n",
        "    print(\"x is 5 or less\")\n"
      ],
      "metadata": {
        "colab": {
          "base_uri": "https://localhost:8080/"
        },
        "id": "lerlAyeGC9r8",
        "outputId": "a5b7ca2b-b9a4-46b0-fff5-9a005ff6f690"
      },
      "execution_count": 1,
      "outputs": [
        {
          "output_type": "stream",
          "name": "stdout",
          "text": [
            "x is greater than 5\n"
          ]
        }
      ]
    },
    {
      "cell_type": "code",
      "source": [
        "#function defination\n",
        "def greet(name):\n",
        "    return f\"Hello, {name}!\"\n",
        "\n",
        "print(greet(\"Alice\"))\n"
      ],
      "metadata": {
        "colab": {
          "base_uri": "https://localhost:8080/"
        },
        "id": "JT94oy0sDAPn",
        "outputId": "718f016f-7b5f-45cc-cfd5-08a2261e5fb3"
      },
      "execution_count": 2,
      "outputs": [
        {
          "output_type": "stream",
          "name": "stdout",
          "text": [
            "Hello, Alice!\n"
          ]
        }
      ]
    },
    {
      "cell_type": "code",
      "source": [
        "#class function\n",
        "class Dog:\n",
        "    def __init__(self, name):\n",
        "        self.name = name\n",
        "\n",
        "    def bark(self):\n",
        "        return \"Woof!\"\n",
        "\n",
        "my_dog = Dog(\"Buddy\")\n",
        "print(my_dog.bark())\n"
      ],
      "metadata": {
        "colab": {
          "base_uri": "https://localhost:8080/"
        },
        "id": "8GpxsMjfDZve",
        "outputId": "2d9006f1-9dd3-40dc-8c3a-4d270ffcd6e4"
      },
      "execution_count": 3,
      "outputs": [
        {
          "output_type": "stream",
          "name": "stdout",
          "text": [
            "Woof!\n"
          ]
        }
      ]
    },
    {
      "cell_type": "code",
      "source": [
        "#important module\n",
        "import math\n",
        "\n",
        "print(math.sqrt(16))  # Outputs: 4.0\n"
      ],
      "metadata": {
        "colab": {
          "base_uri": "https://localhost:8080/"
        },
        "id": "GLT4bOfzDhWn",
        "outputId": "4dba9919-db05-4f3b-f7ab-9d9c5af20e9d"
      },
      "execution_count": 4,
      "outputs": [
        {
          "output_type": "stream",
          "name": "stdout",
          "text": [
            "4.0\n"
          ]
        }
      ]
    },
    {
      "cell_type": "code",
      "source": [
        "#exception handling\n",
        "try:\n",
        "    result = 10 / 0\n",
        "except ZeroDivisionError:\n",
        "    print(\"You can't divide by zero!\")\n",
        "finally:\n",
        "    print(\"Execution complete.\")\n"
      ],
      "metadata": {
        "colab": {
          "base_uri": "https://localhost:8080/"
        },
        "id": "Mn6FLnheD6Q-",
        "outputId": "1c0b2539-ce32-40c8-9baf-ff32a44765f9"
      },
      "execution_count": 5,
      "outputs": [
        {
          "output_type": "stream",
          "name": "stdout",
          "text": [
            "You can't divide by zero!\n",
            "Execution complete.\n"
          ]
        }
      ]
    },
    {
      "cell_type": "markdown",
      "source": [
        "Q3. **Compare and contrast mutable and immutable objects in Python with examples**\n",
        "Ans.In Python, objects can be categorized into two main types: mutable and immutable. The distinction between these types affects how you can manipulate the objects and how they behave in your code.\n",
        "\n",
        "Mutable Objects\n",
        "Mutable objects are those that can be changed after their creation. This means you can modify their content or state without changing their identity.\n",
        "\n",
        "Examples of Mutable Objects:."
      ],
      "metadata": {
        "id": "5jX7D2PoEl_3"
      }
    },
    {
      "cell_type": "code",
      "source": [
        "#list\n",
        "my_list = [1, 2, 3]\n",
        "my_list.append(4)  # Modifies the original list\n",
        "print(my_list)     # Outputs: [1, 2, 3, 4]\n"
      ],
      "metadata": {
        "colab": {
          "base_uri": "https://localhost:8080/"
        },
        "id": "4Zma-QV4FN2K",
        "outputId": "5c0bef7d-25ba-45d6-db77-cc7f5f7fa1d1"
      },
      "execution_count": 6,
      "outputs": [
        {
          "output_type": "stream",
          "name": "stdout",
          "text": [
            "[1, 2, 3, 4]\n"
          ]
        }
      ]
    },
    {
      "cell_type": "code",
      "source": [
        "#dictonaries\n",
        "my_dict = {'name': 'Alice', 'age': 25}\n",
        "my_dict['age'] = 26  # Modifies the original dictionary\n",
        "print(my_dict)       # Outputs: {'name': 'Alice', 'age': 26}\n"
      ],
      "metadata": {
        "colab": {
          "base_uri": "https://localhost:8080/"
        },
        "id": "xPXhZkEEFQi6",
        "outputId": "488de5cf-dfce-46ad-ce8f-a906b76cb3f3"
      },
      "execution_count": 7,
      "outputs": [
        {
          "output_type": "stream",
          "name": "stdout",
          "text": [
            "{'name': 'Alice', 'age': 26}\n"
          ]
        }
      ]
    },
    {
      "cell_type": "code",
      "source": [
        "#sets\n",
        "my_set = {1, 2, 3}\n",
        "my_set.add(4)  # Modifies the original set\n",
        "print(my_set)  # Outputs: {1, 2, 3, 4}\n"
      ],
      "metadata": {
        "colab": {
          "base_uri": "https://localhost:8080/"
        },
        "id": "ANXpQgcrFYoG",
        "outputId": "bff57310-6b91-42fd-d007-7116397a055e"
      },
      "execution_count": 9,
      "outputs": [
        {
          "output_type": "stream",
          "name": "stdout",
          "text": [
            "{1, 2, 3, 4}\n"
          ]
        }
      ]
    },
    {
      "cell_type": "code",
      "source": [],
      "metadata": {
        "id": "YADI-QCvFcqm"
      },
      "execution_count": null,
      "outputs": []
    },
    {
      "cell_type": "markdown",
      "source": [
        "**Immutable Objects**\n",
        "\n",
        "Immutable objects cannot be changed after their creation. Any modification creates a new object rather than changing the original."
      ],
      "metadata": {
        "id": "pgd0kzipFjq8"
      }
    },
    {
      "cell_type": "code",
      "source": [
        "#strings\n",
        "my_string = \"Hello\"\n",
        "new_string = my_string.replace(\"H\", \"J\")  # Creates a new string\n",
        "print(my_string)  # Outputs: \"Hello\"\n",
        "print(new_string)  # Outputs: \"Jello\"\n"
      ],
      "metadata": {
        "colab": {
          "base_uri": "https://localhost:8080/"
        },
        "id": "uFEzlFeOFt0C",
        "outputId": "663eeb7a-5e10-4410-9680-f8964a6ab695"
      },
      "execution_count": 10,
      "outputs": [
        {
          "output_type": "stream",
          "name": "stdout",
          "text": [
            "Hello\n",
            "Jello\n"
          ]
        }
      ]
    },
    {
      "cell_type": "code",
      "source": [
        "#tuples\n",
        "my_tuple = (1, 2, 3)\n",
        "new_tuple = my_tuple + (4,)  # Creates a new tuple\n",
        "print(my_tuple)  # Outputs: (1, 2, 3)\n",
        "print(new_tuple)  # Outputs: (1, 2, 3, 4)\n"
      ],
      "metadata": {
        "colab": {
          "base_uri": "https://localhost:8080/"
        },
        "id": "dL3rEVCGF2XG",
        "outputId": "0ab974e9-020f-43b8-e2ff-16e81dee9f6d"
      },
      "execution_count": 11,
      "outputs": [
        {
          "output_type": "stream",
          "name": "stdout",
          "text": [
            "(1, 2, 3)\n",
            "(1, 2, 3, 4)\n"
          ]
        }
      ]
    },
    {
      "cell_type": "code",
      "source": [
        "#frozensets\n",
        "my_frozenset = frozenset([1, 2, 3])\n",
        "# Cannot modify frozenset; it will raise an error\n",
        "# my_frozenset.add(4)  # This line would raise an AttributeError\n",
        "print(my_frozenset)  # Outputs: frozenset({1, 2, 3})\n"
      ],
      "metadata": {
        "colab": {
          "base_uri": "https://localhost:8080/"
        },
        "id": "c4f7ENn9F9Jk",
        "outputId": "8979e38c-7fd9-4cad-bdd6-71e9384f6fa1"
      },
      "execution_count": 12,
      "outputs": [
        {
          "output_type": "stream",
          "name": "stdout",
          "text": [
            "frozenset({1, 2, 3})\n"
          ]
        }
      ]
    },
    {
      "cell_type": "markdown",
      "source": [
        "Q4. **Discuss the different types of operators in Python and provide examples of how they are used.**\n",
        "\n",
        "Ans.In Python, operators are special symbols that perform operations on variables and values. They can be categorized into several types based on their functionality. Here’s an overview of the different types of operators in Python along with examples.\n",
        "\n"
      ],
      "metadata": {
        "id": "bPkkNXcjGWww"
      }
    },
    {
      "cell_type": "markdown",
      "source": [
        "1. **Arithmetic Operators**\n",
        "These operators perform basic mathematical operations."
      ],
      "metadata": {
        "id": "tW6AT8TxJZoc"
      }
    },
    {
      "cell_type": "code",
      "source": [
        "\n",
        "#Addition (+)\n",
        "\n",
        "a = 10\n",
        "b = 5\n",
        "c = (a+b)\n",
        "print (c)\n"
      ],
      "metadata": {
        "colab": {
          "base_uri": "https://localhost:8080/"
        },
        "id": "aveJF63rIldF",
        "outputId": "afd1bc1a-33f7-484d-8518-b51fb4c3f16a"
      },
      "execution_count": 22,
      "outputs": [
        {
          "output_type": "stream",
          "name": "stdout",
          "text": [
            "15\n"
          ]
        }
      ]
    },
    {
      "cell_type": "code",
      "source": [
        "#subtraction(-)\n",
        "a=10\n",
        "b=5\n",
        "c = (a-b)\n",
        "print (c)"
      ],
      "metadata": {
        "colab": {
          "base_uri": "https://localhost:8080/"
        },
        "id": "NfigCLqCI-Z2",
        "outputId": "adf328f2-3dd9-4ed6-bbba-dd936cb214c9"
      },
      "execution_count": 23,
      "outputs": [
        {
          "output_type": "stream",
          "name": "stdout",
          "text": [
            "5\n"
          ]
        }
      ]
    },
    {
      "cell_type": "code",
      "source": [
        "#multiplication(*)\n",
        "a=10\n",
        "b=5\n",
        "c=(a*b)\n",
        "print(c)"
      ],
      "metadata": {
        "colab": {
          "base_uri": "https://localhost:8080/"
        },
        "id": "sQqEwqjhK8UZ",
        "outputId": "68f6bb3d-d55d-4eeb-a5b2-f93f5ed2beaa"
      },
      "execution_count": 26,
      "outputs": [
        {
          "output_type": "stream",
          "name": "stdout",
          "text": [
            "50\n"
          ]
        }
      ]
    },
    {
      "cell_type": "code",
      "source": [
        "#division(/)\n",
        "a=10\n",
        "b=5\n",
        "c=(a/b)\n",
        "print(c)"
      ],
      "metadata": {
        "colab": {
          "base_uri": "https://localhost:8080/"
        },
        "id": "tWOAY0vOLLLP",
        "outputId": "5790a175-6e9b-4f0c-e7d3-95a3935d2ed4"
      },
      "execution_count": 29,
      "outputs": [
        {
          "output_type": "stream",
          "name": "stdout",
          "text": [
            "2.0\n"
          ]
        }
      ]
    },
    {
      "cell_type": "code",
      "source": [
        "#floor division(//)\n",
        "a=10\n",
        "b=5\n",
        "c=(a//b)\n",
        "print(c)"
      ],
      "metadata": {
        "colab": {
          "base_uri": "https://localhost:8080/"
        },
        "id": "UfohdWjmLZiH",
        "outputId": "9583a5e2-ca01-49ae-8b6a-fe043304e75b"
      },
      "execution_count": 30,
      "outputs": [
        {
          "output_type": "stream",
          "name": "stdout",
          "text": [
            "2\n"
          ]
        }
      ]
    },
    {
      "cell_type": "code",
      "source": [
        "#modulus(%)\n",
        "a=10\n",
        "b=5\n",
        "c=(a%b)\n",
        "print(c)\n"
      ],
      "metadata": {
        "colab": {
          "base_uri": "https://localhost:8080/"
        },
        "id": "FpzQHV8fL2rc",
        "outputId": "c8dc6432-0306-4189-cc0e-93c59915a445"
      },
      "execution_count": 31,
      "outputs": [
        {
          "output_type": "stream",
          "name": "stdout",
          "text": [
            "0\n"
          ]
        }
      ]
    },
    {
      "cell_type": "code",
      "source": [
        "#exponential(**)\n",
        "a=10\n",
        "b=5\n",
        "c=a**b\n",
        "print(c)"
      ],
      "metadata": {
        "colab": {
          "base_uri": "https://localhost:8080/"
        },
        "id": "Sbr8UtLKMT1c",
        "outputId": "fddeed05-451c-4ad5-cf0c-e62055fd0798"
      },
      "execution_count": 32,
      "outputs": [
        {
          "output_type": "stream",
          "name": "stdout",
          "text": [
            "100000\n"
          ]
        }
      ]
    },
    {
      "cell_type": "code",
      "source": [],
      "metadata": {
        "id": "Uhgt_6meMlJD"
      },
      "execution_count": null,
      "outputs": []
    },
    {
      "cell_type": "markdown",
      "source": [
        "2. **Comparison Operators**\n",
        "\n",
        "These operators compare two values and return a Boolean result (True or False)."
      ],
      "metadata": {
        "id": "jBYXvcEhM3C1"
      }
    },
    {
      "cell_type": "code",
      "source": [
        "#equal to(==):\n",
        "result = (a == b)   # result is False\n"
      ],
      "metadata": {
        "id": "RC4yA-zwNBEt"
      },
      "execution_count": 35,
      "outputs": []
    },
    {
      "cell_type": "code",
      "source": [
        "#Not equal to (!=):\n",
        "result = (a != b)  # result is True\n"
      ],
      "metadata": {
        "id": "Z0Bjst2rN_uH"
      },
      "execution_count": null,
      "outputs": []
    },
    {
      "cell_type": "code",
      "source": [
        "#Greater than (>):\n",
        "result = (a > b)  # result is True\n"
      ],
      "metadata": {
        "id": "K66IOraZOQH1"
      },
      "execution_count": null,
      "outputs": []
    },
    {
      "cell_type": "code",
      "source": [
        "#Less than (<):\n",
        "result = (a < b)  # result is False"
      ],
      "metadata": {
        "id": "7sTHI7XdOdmj"
      },
      "execution_count": null,
      "outputs": []
    },
    {
      "cell_type": "code",
      "source": [
        "#Greater than or equal to (>=):\n",
        "result = (a >= b)  # result is True"
      ],
      "metadata": {
        "id": "sUwk6rM3OmNv"
      },
      "execution_count": null,
      "outputs": []
    },
    {
      "cell_type": "code",
      "source": [
        "#Less than or equal to (<=):\n",
        "\n",
        "result = (a <= b)  # result is False"
      ],
      "metadata": {
        "id": "sv7fjo6IOxdi"
      },
      "execution_count": null,
      "outputs": []
    },
    {
      "cell_type": "markdown",
      "source": [
        "3.**Logical Operators**\n",
        "\n",
        "These operators are used to combine conditional statements."
      ],
      "metadata": {
        "id": "CsNlTcTfPJKf"
      }
    },
    {
      "cell_type": "code",
      "source": [
        "#Logical AND (and):\n",
        "result = (a > 0 and b > 0)  # result is True"
      ],
      "metadata": {
        "id": "H0l2v_DDPN2y"
      },
      "execution_count": null,
      "outputs": []
    },
    {
      "cell_type": "code",
      "source": [
        "#Logical OR (or):\n",
        "result = (a > 0 or b < 0)  # result is True\n"
      ],
      "metadata": {
        "id": "VcdLlkHxPXC1"
      },
      "execution_count": null,
      "outputs": []
    },
    {
      "cell_type": "code",
      "source": [
        "#Logical NOT (not):\n",
        "result = not (a < 0)  # result is True"
      ],
      "metadata": {
        "id": "_2ObmgWEPo1r"
      },
      "execution_count": 33,
      "outputs": []
    },
    {
      "cell_type": "markdown",
      "source": [
        "4. **Bitwise Operators**\n",
        "\n",
        "These operators perform operations on bits.\n",
        "\n"
      ],
      "metadata": {
        "id": "3h7zQPD7QOpB"
      }
    },
    {
      "cell_type": "code",
      "source": [
        "#Bitwise AND (&):\n",
        "result = a & b\n"
      ],
      "metadata": {
        "id": "S4cDbX_jQYYs"
      },
      "execution_count": null,
      "outputs": []
    },
    {
      "cell_type": "code",
      "source": [
        "#Bitwise OR (|):\n",
        "result = a | b"
      ],
      "metadata": {
        "id": "mIvPhz1fT_aI"
      },
      "execution_count": null,
      "outputs": []
    },
    {
      "cell_type": "code",
      "source": [
        "#Bitwise XOR (^):\n",
        "result = a ^ b"
      ],
      "metadata": {
        "id": "SoqKpaRvUFtU"
      },
      "execution_count": null,
      "outputs": []
    },
    {
      "cell_type": "code",
      "source": [
        "#Bitwise NOT (~):\n",
        "result = ~a\n"
      ],
      "metadata": {
        "id": "Q9UP4PpOUPz6"
      },
      "execution_count": null,
      "outputs": []
    },
    {
      "cell_type": "code",
      "source": [
        "#Left Shift (<<):\n",
        "result = a << 2"
      ],
      "metadata": {
        "id": "U1Cz7In1UqAn"
      },
      "execution_count": null,
      "outputs": []
    },
    {
      "cell_type": "code",
      "source": [
        "#Right Shift (>>):\n",
        "result = a >> 2"
      ],
      "metadata": {
        "id": "-mxs9wDbUxOV"
      },
      "execution_count": null,
      "outputs": []
    },
    {
      "cell_type": "markdown",
      "source": [
        "5. **Assignment Operators**\n",
        "\n",
        "These operators assign values to variables."
      ],
      "metadata": {
        "id": "FggSARxOVM9h"
      }
    },
    {
      "cell_type": "code",
      "source": [
        "#Simple Assignment (=):\n",
        "c = a"
      ],
      "metadata": {
        "id": "a2_OCxW4VRbF"
      },
      "execution_count": null,
      "outputs": []
    },
    {
      "cell_type": "code",
      "source": [
        "#Add and Assign (+=):\n",
        "c += b"
      ],
      "metadata": {
        "id": "2r32azqkVD0O"
      },
      "execution_count": null,
      "outputs": []
    },
    {
      "cell_type": "code",
      "source": [
        "#Subtract and Assign (-=):\n",
        "c -= b"
      ],
      "metadata": {
        "id": "yywCINJeV1Hd"
      },
      "execution_count": null,
      "outputs": []
    },
    {
      "cell_type": "code",
      "source": [
        "#Multiply and Assign (*=):\n",
        "c *= b"
      ],
      "metadata": {
        "id": "GYOlbkF3V7OS"
      },
      "execution_count": null,
      "outputs": []
    },
    {
      "cell_type": "code",
      "source": [
        "#Divide and Assign (/=):\n",
        "c /= b"
      ],
      "metadata": {
        "id": "9HN2-VvwWB8S"
      },
      "execution_count": null,
      "outputs": []
    },
    {
      "cell_type": "markdown",
      "source": [
        "6. **Identity Operators**\n",
        "\n",
        "These operators are used to check if two variables point to the same object in memory."
      ],
      "metadata": {
        "id": "mKpAPyBnWNU5"
      }
    },
    {
      "cell_type": "code",
      "source": [
        "#Is (is)\n",
        "result = (a is b)"
      ],
      "metadata": {
        "id": "O5SZYb6jWfFv"
      },
      "execution_count": null,
      "outputs": []
    },
    {
      "cell_type": "code",
      "source": [
        "#Is Not (is not):\n",
        "result = (a is not b)"
      ],
      "metadata": {
        "id": "0DdO0FvXWr0R"
      },
      "execution_count": null,
      "outputs": []
    },
    {
      "cell_type": "markdown",
      "source": [
        "7. **Membership Operators**\n",
        "\n",
        "These operators are used to test if a value is in a sequence (like a list, tuple, or string)."
      ],
      "metadata": {
        "id": "Hoee8pY7W8Iv"
      }
    },
    {
      "cell_type": "code",
      "source": [
        "#In (in):\n",
        "my_list = [1, 2, 3]\n",
        "result = (2 in my_list)"
      ],
      "metadata": {
        "id": "PkwFdkGwXBfB"
      },
      "execution_count": null,
      "outputs": []
    },
    {
      "cell_type": "code",
      "source": [
        "#Not In (not in)\n",
        "result = (4 not in my_list)"
      ],
      "metadata": {
        "id": "mgieuDHLXO2r"
      },
      "execution_count": null,
      "outputs": []
    },
    {
      "cell_type": "markdown",
      "source": [
        "Q5. **Explain the concept of type casting in Python with examples**.\n",
        "\n",
        "Ans. Type casting in Python refers to the conversion of one data type into another. This is often necessary when you need to perform operations that require different types or when you want to ensure that data is in the desired format. Python provides built-in functions for type casting, making it straightforward to convert between types.\n",
        "\n",
        "**Types of Casting**\n",
        "\n",
        "1.**Implicit Casting** (Automatic Type Conversion): Python automatically converts one data type to another without explicit instructions. This usually happens when a smaller type is converted to a larger type."
      ],
      "metadata": {
        "id": "9rz4t8HWXi8T"
      }
    },
    {
      "cell_type": "code",
      "source": [
        "a = 10      # Integer\n",
        "b = 3.14    # Float\n",
        "result = a + b  # a is implicitly converted to float\n",
        "print(result)    # Outputs: 13.14\n",
        "print(type(result))  # Outputs: <class 'float'>\n"
      ],
      "metadata": {
        "colab": {
          "base_uri": "https://localhost:8080/"
        },
        "id": "-LV38GXeY9Bk",
        "outputId": "ce823f43-bde5-42f9-9557-7a2a7e0ced36"
      },
      "execution_count": 36,
      "outputs": [
        {
          "output_type": "stream",
          "name": "stdout",
          "text": [
            "13.14\n",
            "<class 'float'>\n"
          ]
        }
      ]
    },
    {
      "cell_type": "markdown",
      "source": [
        "**Explicit Casting** (Type Conversion): This involves using built-in functions to convert data from one type to another. Common functions for explicit casting include int(), float(), str(), and list()."
      ],
      "metadata": {
        "id": "P0xqIA9NYbJS"
      }
    },
    {
      "cell_type": "code",
      "source": [
        "#convert to integer\n",
        "x = 3.5\n",
        "y = int(x)  # Converts float to integer\n",
        "print(y)    # Outputs: 3\n"
      ],
      "metadata": {
        "colab": {
          "base_uri": "https://localhost:8080/"
        },
        "id": "gl_sHW-mZmEu",
        "outputId": "d8dfce87-3831-49a2-ee2d-2d3e36d5826d"
      },
      "execution_count": 37,
      "outputs": [
        {
          "output_type": "stream",
          "name": "stdout",
          "text": [
            "3\n"
          ]
        }
      ]
    },
    {
      "cell_type": "code",
      "source": [
        "#convert to float\n",
        "x = \"5.67\"\n",
        "y = float(x)  # Converts string to float\n",
        "print(y)      # Outputs: 5.67\n"
      ],
      "metadata": {
        "colab": {
          "base_uri": "https://localhost:8080/"
        },
        "id": "Tcj-hnzlZomx",
        "outputId": "32975c40-4d70-44d6-b0c8-886e8eab668e"
      },
      "execution_count": 38,
      "outputs": [
        {
          "output_type": "stream",
          "name": "stdout",
          "text": [
            "5.67\n"
          ]
        }
      ]
    },
    {
      "cell_type": "code",
      "source": [
        "#convert to string\n",
        "x = 100\n",
        "y = str(x)  # Converts integer to string\n",
        "print(y)    # Outputs: '100'\n"
      ],
      "metadata": {
        "colab": {
          "base_uri": "https://localhost:8080/"
        },
        "id": "ZwQu3f0FZ2bJ",
        "outputId": "4e674ef9-afc0-423d-f5f0-b2de14d6c602"
      },
      "execution_count": 39,
      "outputs": [
        {
          "output_type": "stream",
          "name": "stdout",
          "text": [
            "100\n"
          ]
        }
      ]
    },
    {
      "cell_type": "code",
      "source": [
        "#converting to list\n",
        "x = \"hello\"\n",
        "y = list(x)  # Converts string to list of characters\n",
        "print(y)     # Outputs: ['h', 'e', 'l', 'l', 'o']\n"
      ],
      "metadata": {
        "colab": {
          "base_uri": "https://localhost:8080/"
        },
        "id": "NQ1rngecaEoh",
        "outputId": "47686f90-75f6-453a-f4fa-a4884998e8bc"
      },
      "execution_count": 40,
      "outputs": [
        {
          "output_type": "stream",
          "name": "stdout",
          "text": [
            "['h', 'e', 'l', 'l', 'o']\n"
          ]
        }
      ]
    },
    {
      "cell_type": "markdown",
      "source": [
        "Q6. **How do conditional statents work in Python? Illustrate with examples.**\n",
        "\n",
        "Ans.Conditional statements in Python allow you to execute certain blocks of code based on whether a specified condition evaluates to True or False. The primary conditional statements in Python are if, elif, and else.\n"
      ],
      "metadata": {
        "id": "b5DTpEE364Jx"
      }
    },
    {
      "cell_type": "code",
      "source": [
        "#basic syntax\n",
        "if condition:\n",
        "    # code to execute if condition is True\n",
        "elif another_condition:\n",
        "    # code to execute if the first condition is False and this condition is True\n",
        "else:\n",
        "    # code to execute if all previous conditions are False\n"
      ],
      "metadata": {
        "id": "-p94noxF7qKV"
      },
      "execution_count": null,
      "outputs": []
    },
    {
      "cell_type": "code",
      "source": [
        "#simple IF Statment\n",
        "age = 18\n",
        "\n",
        "if age >= 18:\n",
        "    print(\"You are an adult.\")\n"
      ],
      "metadata": {
        "colab": {
          "base_uri": "https://localhost:8080/"
        },
        "id": "V75ZPwj375LQ",
        "outputId": "b653e12e-e506-4e9d-a2d1-b41da0e15ce4"
      },
      "execution_count": 1,
      "outputs": [
        {
          "output_type": "stream",
          "name": "stdout",
          "text": [
            "You are an adult.\n"
          ]
        }
      ]
    },
    {
      "cell_type": "code",
      "source": [
        "#simple IF-ELSE Statment\n",
        "age = 16\n",
        "\n",
        "if age >= 18:\n",
        "    print(\"You are an adult.\")\n",
        "else:\n",
        "    print(\"You are not an adult yet.\")\n"
      ],
      "metadata": {
        "colab": {
          "base_uri": "https://localhost:8080/"
        },
        "id": "PgOg0lEa8CP5",
        "outputId": "bdb3a613-8dd0-46bc-9cbd-f97f90b42f67"
      },
      "execution_count": 2,
      "outputs": [
        {
          "output_type": "stream",
          "name": "stdout",
          "text": [
            "You are not an adult yet.\n"
          ]
        }
      ]
    },
    {
      "cell_type": "code",
      "source": [
        "#IF-ELIF-ELSE Statment\n",
        "score = 75\n",
        "\n",
        "if score >= 90:\n",
        "    print(\"Grade: A\")\n",
        "elif score >= 80:\n",
        "    print(\"Grade: B\")\n",
        "elif score >= 70:\n",
        "    print(\"Grade: C\")\n",
        "else:\n",
        "    print(\"Grade: D or F\")\n"
      ],
      "metadata": {
        "colab": {
          "base_uri": "https://localhost:8080/"
        },
        "id": "vtZwjNrH8Qw1",
        "outputId": "cebb9837-3433-4e7f-a8fa-812adc02b9ae"
      },
      "execution_count": 3,
      "outputs": [
        {
          "output_type": "stream",
          "name": "stdout",
          "text": [
            "Grade: C\n"
          ]
        }
      ]
    },
    {
      "cell_type": "code",
      "source": [
        "#Nested conditional statment\n",
        "num = 10\n",
        "\n",
        "if num > 0:\n",
        "    print(\"Positive number\")\n",
        "    if num % 2 == 0:\n",
        "        print(\"Even number\")\n",
        "else:\n",
        "    print(\"Negative number or zero\")\n"
      ],
      "metadata": {
        "colab": {
          "base_uri": "https://localhost:8080/"
        },
        "id": "2PZ91cOW8gnJ",
        "outputId": "7e2a89cc-b244-44d2-d599-a71af30b761c"
      },
      "execution_count": 4,
      "outputs": [
        {
          "output_type": "stream",
          "name": "stdout",
          "text": [
            "Positive number\n",
            "Even number\n"
          ]
        }
      ]
    },
    {
      "cell_type": "markdown",
      "source": [
        "Q7. **Describe the different types of loops in Python and their use cases with examples.**\n",
        "\n",
        "Ans.In Python, loops are used to execute a block of code repeatedly based on certain conditions. The two primary types of loops are **for loops** and **while loops**. Each type has its specific use cases.\n",
        "\n",
        "1. **For Loop**\n",
        "The for loop is used to iterate over a sequence (like a list, tuple, string, or range). It is ideal when you know the number of iterations in advance."
      ],
      "metadata": {
        "id": "pHWRw8hU88__"
      }
    },
    {
      "cell_type": "code",
      "source": [
        "fruits = [\"apple\", \"banana\", \"cherry\"]\n",
        "\n",
        "for fruit in fruits:\n",
        "    print(fruit)\n"
      ],
      "metadata": {
        "colab": {
          "base_uri": "https://localhost:8080/"
        },
        "id": "Mjhvi1Hs9tyZ",
        "outputId": "6ea17efa-9344-4864-c4dd-77f0d8b26498"
      },
      "execution_count": 5,
      "outputs": [
        {
          "output_type": "stream",
          "name": "stdout",
          "text": [
            "apple\n",
            "banana\n",
            "cherry\n"
          ]
        }
      ]
    },
    {
      "cell_type": "markdown",
      "source": [
        "2. **While Loop**\n",
        "The while loop continues to execute as long as a specified condition is True. It's suitable when the number of iterations is not known beforehand and depends on dynamic conditions."
      ],
      "metadata": {
        "id": "2lVGjFdV-qal"
      }
    },
    {
      "cell_type": "code",
      "source": [
        "count = 0\n",
        "\n",
        "while count < 5:\n",
        "    print(count)\n",
        "    count += 1\n"
      ],
      "metadata": {
        "colab": {
          "base_uri": "https://localhost:8080/"
        },
        "id": "ZFqMJBKD-tZe",
        "outputId": "a1ae6e58-5c20-4823-e47e-266afb380b5f"
      },
      "execution_count": 6,
      "outputs": [
        {
          "output_type": "stream",
          "name": "stdout",
          "text": [
            "0\n",
            "1\n",
            "2\n",
            "3\n",
            "4\n"
          ]
        }
      ]
    },
    {
      "cell_type": "markdown",
      "source": [
        "3. **Nested Loops**\n",
        "You can nest loops within each other, which is useful for dealing with multi-dimensional data structures like lists of lists."
      ],
      "metadata": {
        "id": "k3JWfl0Q_BV-"
      }
    },
    {
      "cell_type": "code",
      "source": [
        "for i in range(3):\n",
        "    for j in range(2):\n",
        "        print(f\"i={i}, j={j}\")\n"
      ],
      "metadata": {
        "colab": {
          "base_uri": "https://localhost:8080/"
        },
        "id": "3_LGRQdP_EUa",
        "outputId": "31843434-1446-4669-9552-a347c7eb4710"
      },
      "execution_count": 7,
      "outputs": [
        {
          "output_type": "stream",
          "name": "stdout",
          "text": [
            "i=0, j=0\n",
            "i=0, j=1\n",
            "i=1, j=0\n",
            "i=1, j=1\n",
            "i=2, j=0\n",
            "i=2, j=1\n"
          ]
        }
      ]
    },
    {
      "cell_type": "code",
      "source": [],
      "metadata": {
        "id": "BgzHjDDk_S-8"
      },
      "execution_count": null,
      "outputs": []
    }
  ]
}